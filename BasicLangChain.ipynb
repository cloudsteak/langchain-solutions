{
 "cells": [
  {
   "cell_type": "markdown",
   "id": "8f742c16-65ec-4a7e-a3a0-f37e5ff753b3",
   "metadata": {},
   "source": [
    "## Install packages"
   ]
  },
  {
   "cell_type": "code",
   "execution_count": null,
   "id": "c3b9e6c4-f6fc-448f-84b5-18cc38fb885b",
   "metadata": {
    "scrolled": true
   },
   "outputs": [],
   "source": [
    "!poetry install"
   ]
  },
  {
   "cell_type": "markdown",
   "id": "5ff0b4e2-5749-4a27-871f-38067611a57b",
   "metadata": {},
   "source": [
    "## OPENAI settings"
   ]
  },
  {
   "cell_type": "code",
   "execution_count": 4,
   "id": "91be0f98-d675-418a-94ee-2c7717402c66",
   "metadata": {},
   "outputs": [],
   "source": [
    "import os\n",
    "os.environ['OPENAI_API_KEY'] = <openai-api-key>"
   ]
  },
  {
   "cell_type": "markdown",
   "id": "7f96ff6a-be99-4894-ac0d-c45f7d2acdc5",
   "metadata": {},
   "source": [
    "## LLM"
   ]
  },
  {
   "cell_type": "code",
   "execution_count": null,
   "id": "91eb1a13-3914-48eb-a7e8-53de509ddefa",
   "metadata": {},
   "outputs": [],
   "source": [
    "from langchain.llms import OpenAI\n",
    "\n",
    "llm = OpenAI(temperature=0.9)\n",
    "name = llm.predict(\"I want to open a restaurant for Indian food. Suggest a fency name for this.\")\n",
    "print(name)"
   ]
  },
  {
   "cell_type": "markdown",
   "id": "b0d92f9d-cf35-4451-8914-12fe64c78f88",
   "metadata": {},
   "source": [
    "## Prompt template"
   ]
  },
  {
   "cell_type": "code",
   "execution_count": null,
   "id": "10243cd5-c2b6-4c36-8979-85d6509677ee",
   "metadata": {},
   "outputs": [],
   "source": [
    "from langchain.prompts import PromptTemplate\n",
    "\n",
    "prompt_template_name = PromptTemplate(\n",
    "    input_variables =['cuisine'],\n",
    "    template = \"I want to open a restaurant for {cuisine} food. Suggest a fency name for this.\"\n",
    ")\n",
    "p = prompt_template_name.format(cuisine=\"Italian\")\n",
    "print(p)"
   ]
  }
 ],
 "metadata": {
  "kernelspec": {
   "display_name": "Python 3 (ipykernel)",
   "language": "python",
   "name": "python3"
  },
  "language_info": {
   "codemirror_mode": {
    "name": "ipython",
    "version": 3
   },
   "file_extension": ".py",
   "mimetype": "text/x-python",
   "name": "python",
   "nbconvert_exporter": "python",
   "pygments_lexer": "ipython3",
   "version": "3.11.6"
  }
 },
 "nbformat": 4,
 "nbformat_minor": 5
}
