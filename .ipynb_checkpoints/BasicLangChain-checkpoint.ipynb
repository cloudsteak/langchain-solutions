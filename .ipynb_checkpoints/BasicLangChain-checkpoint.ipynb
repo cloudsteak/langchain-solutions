{
 "cells": [
  {
   "cell_type": "markdown",
   "id": "8f742c16-65ec-4a7e-a3a0-f37e5ff753b3",
   "metadata": {},
   "source": [
    "## Install packages"
   ]
  },
  {
   "cell_type": "code",
   "execution_count": null,
   "id": "c3b9e6c4-f6fc-448f-84b5-18cc38fb885b",
   "metadata": {
    "scrolled": true
   },
   "outputs": [],
   "source": [
    "!poetry install --no-root"
   ]
  },
  {
   "cell_type": "markdown",
   "id": "5ff0b4e2-5749-4a27-871f-38067611a57b",
   "metadata": {},
   "source": [
    "## OPENAI settings"
   ]
  },
  {
   "cell_type": "code",
   "execution_count": null,
   "id": "91be0f98-d675-418a-94ee-2c7717402c66",
   "metadata": {
    "scrolled": true
   },
   "outputs": [],
   "source": [
    "import os\n",
    "os.environ['OPENAI_API_KEY'] = <openai-api-key>"
   ]
  },
  {
   "cell_type": "markdown",
   "id": "7f96ff6a-be99-4894-ac0d-c45f7d2acdc5",
   "metadata": {},
   "source": [
    "## LLM"
   ]
  },
  {
   "cell_type": "code",
   "execution_count": 65,
   "id": "91eb1a13-3914-48eb-a7e8-53de509ddefa",
   "metadata": {
    "scrolled": true
   },
   "outputs": [
    {
     "name": "stdout",
     "output_type": "stream",
     "text": [
      "\n",
      "\n",
      "\"Paprika Palace\"\n"
     ]
    }
   ],
   "source": [
    "from langchain.llms import OpenAI\n",
    "\n",
    "llm = OpenAI(temperature=0.9)\n",
    "\n",
    "name = llm.predict(\"I want to open a restaurant for Hungarian food. Suggest a fancy name for this.\")\n",
    "print(name)"
   ]
  },
  {
   "cell_type": "markdown",
   "id": "b0d92f9d-cf35-4451-8914-12fe64c78f88",
   "metadata": {},
   "source": [
    "## Prompt template"
   ]
  },
  {
   "cell_type": "code",
   "execution_count": 52,
   "id": "10243cd5-c2b6-4c36-8979-85d6509677ee",
   "metadata": {},
   "outputs": [
    {
     "name": "stdout",
     "output_type": "stream",
     "text": [
      "I want to open a restaurant for Hungarian food. Suggest a fancy name for this.\n"
     ]
    }
   ],
   "source": [
    "from langchain.prompts import PromptTemplate\n",
    "\n",
    "prompt_template_name = PromptTemplate(\n",
    "    input_variables =['cuisine'],\n",
    "    template = \"I want to open a restaurant for {cuisine} food. Suggest a fancy name for this.\"\n",
    ")\n",
    "p = prompt_template_name.format(cuisine=\"Hungarian\")\n",
    "print(p)"
   ]
  },
  {
   "cell_type": "markdown",
   "id": "03c55aae-0ac7-4b92-a09d-a9fd173632f6",
   "metadata": {},
   "source": [
    "## Chains"
   ]
  },
  {
   "cell_type": "code",
   "execution_count": 53,
   "id": "1361ebcd-54f3-4d74-ab1e-ad4bc823c1c8",
   "metadata": {},
   "outputs": [
    {
     "data": {
      "text/plain": [
       "'\\n\\n\"Magyar Delicacies\" '"
      ]
     },
     "execution_count": 53,
     "metadata": {},
     "output_type": "execute_result"
    }
   ],
   "source": [
    "from langchain.chains import LLMChain\n",
    "\n",
    "chain = LLMChain(llm=llm, prompt=prompt_template_name)\n",
    "chain.run(\"Hungarian\")"
   ]
  },
  {
   "cell_type": "code",
   "execution_count": 54,
   "id": "2ed7ac66-fa4b-4b3d-bed6-ddb29f9e3e11",
   "metadata": {},
   "outputs": [
    {
     "name": "stdout",
     "output_type": "stream",
     "text": [
      "\n",
      "\n",
      "\u001b[1m> Entering new LLMChain chain...\u001b[0m\n",
      "Prompt after formatting:\n",
      "\u001b[32;1m\u001b[1;3mI want to open a restaurant for Hungarian food. Suggest a fancy name for this.\u001b[0m\n",
      "\n",
      "\u001b[1m> Finished chain.\u001b[0m\n"
     ]
    },
    {
     "data": {
      "text/plain": [
       "'\\n\\n\"Goulash Palace\"'"
      ]
     },
     "execution_count": 54,
     "metadata": {},
     "output_type": "execute_result"
    }
   ],
   "source": [
    "chain = LLMChain(llm=llm, prompt=prompt_template_name, verbose=True)\n",
    "chain.run(\"Hungarian\")"
   ]
  },
  {
   "cell_type": "markdown",
   "id": "56b9c6b3-2034-4997-8c24-b3c75e9bd567",
   "metadata": {},
   "source": [
    "### Simple sequental chain"
   ]
  },
  {
   "cell_type": "markdown",
   "id": "10076984-489e-44a7-b3c0-03b6678a8980",
   "metadata": {},
   "source": [
    "- Restaurant and menu items chanins"
   ]
  },
  {
   "cell_type": "code",
   "execution_count": 55,
   "id": "776119a2-fb62-4be7-813e-31f58aa47e81",
   "metadata": {},
   "outputs": [],
   "source": [
    "# LLM\n",
    "llm = OpenAI(temperature=0.6)\n",
    "\n",
    "# Prompt template for restaurant with parameter\n",
    "prompt_template_name = PromptTemplate(\n",
    "    input_variables = ['cuisine'],\n",
    "    template = \"I want to open a restaurant for {cuisine} food. You are a restaurant advisor, so please suggest a fancy name for it.\"\n",
    ")\n",
    "\n",
    "# Chain - Restaurant name\n",
    "name_chain = LLMChain(llm=llm, prompt=prompt_template_name)\n",
    "\n",
    "# Prompt template for menu\n",
    "prompt_template_items = PromptTemplate(\n",
    "    input_variables = ['restaurant_name'],\n",
    "    template = \"\"\"\n",
    "    You are Heston Blumenthal, the famous chef. Blumenthal is regarded as a pioneer of multi-sensory cooking, food pairing and flavour encapsulation. \n",
    "    He came to public attention with unusual recipes, such as bacon-and-egg ice cream and snail porridge. \n",
    "    His recipes for triple-cooked chips and soft-centred Scotch eggs have been widely imitated. \n",
    "    He has advocated a scientific approach to cooking, for which he has been awarded honorary degrees from the universities of Reading, Bristol and London and made an honorary fellow of the Royal Society of Chemistry.\n",
    "    \n",
    "    Please suggest some menu items for {restaurant_name}\n",
    "    \"\"\"\n",
    ")\n",
    "\n",
    "# Chain - menu\n",
    "food_items_chain = LLMChain(llm=llm, prompt=prompt_template_items)\n",
    "\n"
   ]
  },
  {
   "cell_type": "markdown",
   "id": "0bc757ec-0ab0-4120-9390-60fa9d4fdb55",
   "metadata": {},
   "source": [
    "- Simple sequental chain"
   ]
  },
  {
   "cell_type": "code",
   "execution_count": 56,
   "id": "7a77cf75-aca7-47b2-b98e-e8e39b1b882c",
   "metadata": {},
   "outputs": [
    {
     "name": "stdout",
     "output_type": "stream",
     "text": [
      "\n",
      "1. \"Goulash Explosion\" - A deconstructed version of traditional Hungarian goulash, with tender beef, paprika foam, and a crispy potato lattice.\n",
      "\n",
      "2. \"Foie Gras and Tokaji Jelly\" - A modern take on the classic Hungarian dish, combining rich foie gras and sweet Tokaji wine jelly.\n",
      "\n",
      "3. \"Duck Confit with Cherry Palinka Reduction\" - Slow-cooked duck leg served with a tangy cherry palinka reduction and crispy potato rosti.\n",
      "\n",
      "4. \"Crispy Pork Belly with Spiced Plum Compote\" - Crispy pork belly served with a sweet and tangy spiced plum compote and a side of pickled cabbage.\n",
      "\n",
      "5. \"Mushroom and Paprika Risotto\" - A creamy risotto made with wild mushrooms and smoked paprika, topped with crispy fried onions.\n",
      "\n",
      "6. \"Beef Stroganoff with Spaetzle\" - Tender beef strips cooked in a rich and creamy sauce served over homemade spaetzle noodles.\n",
      "\n",
      "7. \"Langos with Garlic Sour Cream\" - A popular Hungarian street food, crispy fried dough topped with a garlic-infused sour cream and your choice of toppings such as cheese, bacon, or sautéed mushrooms.\n",
      "\n",
      "8\n"
     ]
    }
   ],
   "source": [
    "from langchain.chains import SimpleSequentialChain\n",
    "\n",
    "# Use chains we defined above\n",
    "chain = SimpleSequentialChain(chains = [name_chain, food_items_chain])\n",
    "\n",
    "# Run this chain sequence\n",
    "content = chain.run(\"Hungarian\")\n",
    "print(content)"
   ]
  },
  {
   "cell_type": "markdown",
   "id": "ea709524-b25a-455a-9368-1d7536e0a241",
   "metadata": {},
   "source": [
    "### Sequental Chain"
   ]
  },
  {
   "cell_type": "markdown",
   "id": "e1fdcc69-0539-40d9-abe0-86cbe1432d21",
   "metadata": {},
   "source": [
    "- Restaurant name"
   ]
  },
  {
   "cell_type": "code",
   "execution_count": 83,
   "id": "924185d1-4211-43aa-adf5-9c134dbefd5e",
   "metadata": {},
   "outputs": [],
   "source": [
    "llm = OpenAI(temperature=0.7)\n",
    "\n",
    "prompt_template_name = PromptTemplate(\n",
    "    input_variables = ['cuisine'],\n",
    "    template = \"I want to open a restaurant for {cuisine} food. You are a restaurant advisor, so please suggest a fancy name for it.\"\n",
    ")\n",
    "\n",
    "name_chain = LLMChain(llm=llm, prompt=prompt_template_name, output_key=\"restaurant_name\")\n",
    "\n"
   ]
  },
  {
   "cell_type": "markdown",
   "id": "f74249e3-694a-45f7-b23a-3b8494851257",
   "metadata": {},
   "source": [
    "- Menu items"
   ]
  },
  {
   "cell_type": "code",
   "execution_count": 58,
   "id": "4bc505c1-bdfa-4bd1-8eb3-9966c450599b",
   "metadata": {},
   "outputs": [],
   "source": [
    "llm = OpenAI(temperature=0.7)\n",
    "\n",
    "prompt_template_name = PromptTemplate(\n",
    "    input_variables = ['restaurant_name'],\n",
    "    template=\"Suggest some menu items for {restaurant_name}.\"\n",
    ")\n",
    "\n",
    "food_items_chain = LLMChain(llm=llm, prompt=prompt_template_name, output_key=\"menu_items\")\n",
    "\n",
    "    "
   ]
  },
  {
   "cell_type": "markdown",
   "id": "0f4af06b-d511-47f8-9b0c-dd7696c18c51",
   "metadata": {},
   "source": [
    "- Sequental chain"
   ]
  },
  {
   "cell_type": "code",
   "execution_count": 59,
   "id": "f105a9b2-0eb0-48c4-bb3f-7f82edcfb084",
   "metadata": {
    "scrolled": true
   },
   "outputs": [],
   "source": [
    "from langchain.chains import SequentialChain\n",
    "\n",
    "chain = SequentialChain(\n",
    "    chains = [name_chain, food_items_chain],\n",
    "    input_variables = ['cuisine'],\n",
    "    output_variables = ['restaurant_name', 'menu_items']\n",
    ")"
   ]
  },
  {
   "cell_type": "markdown",
   "id": "10b49be3-50c6-4e87-97c8-4cee206c60b1",
   "metadata": {},
   "source": [
    "- Run chains"
   ]
  },
  {
   "cell_type": "code",
   "execution_count": 60,
   "id": "94192f8d-e7c2-4a73-b747-02bb18924e22",
   "metadata": {},
   "outputs": [
    {
     "data": {
      "text/plain": [
       "{'cuisine': 'Hungarian',\n",
       " 'restaurant_name': '\\n\\n\"Paprika Palace\"',\n",
       " 'menu_items': '\\n\\n1. Paprika chicken skewers with tzatziki dip\\n2. Spicy paprika shrimp and chorizo paella\\n3. Paprika roasted vegetable and quinoa salad\\n4. Paprika crusted salmon with lemon dill sauce\\n5. Paprika and garlic roasted potatoes\\n6. Paprika marinated pork tenderloin with apple chutney\\n7. Paprika spiced beef and vegetable stir-fry\\n8. Paprika and feta stuffed mushrooms\\n9. Paprika and herb crusted rack of lamb\\n10. Paprika sweet potato fries with chipotle mayo.'}"
      ]
     },
     "execution_count": 60,
     "metadata": {},
     "output_type": "execute_result"
    }
   ],
   "source": [
    "chain({\"cuisine\": \"Hungarian\"})"
   ]
  },
  {
   "cell_type": "code",
   "execution_count": null,
   "id": "b6b3d512-c26d-4443-8b25-f56bdd37d1ea",
   "metadata": {},
   "outputs": [],
   "source": [
    "## Agents"
   ]
  },
  {
   "cell_type": "code",
   "execution_count": 72,
   "id": "fbae1ff7-8098-4d62-83dc-f02b04133580",
   "metadata": {},
   "outputs": [],
   "source": [
    "# make sure yoy have installed this package: pip install google-search-results\n",
    "# from secret_key import serpapi_key\n",
    "# os.environ['SERPAPI_API_KEY'] = serpapi_key\n",
    "\n",
    "os.environ['SERPAPI_API_KEY'] = \"add your serpapi key here\""
   ]
  },
  {
   "cell_type": "code",
   "execution_count": 71,
   "id": "eecb175d-0050-441a-9cbe-04baa1afb6c0",
   "metadata": {},
   "outputs": [
    {
     "name": "stdout",
     "output_type": "stream",
     "text": [
      "\n",
      "\n",
      "\u001b[1m> Entering new AgentExecutor chain...\u001b[0m\n",
      "\u001b[32;1m\u001b[1;3m I need to use wikipedia to find Elon Musk's birthdate.\n",
      "Action: wikipedia\n",
      "Action Input: \"Elon Musk\"\u001b[0m\n",
      "Observation: \u001b[36;1m\u001b[1;3mPage: Elon Musk\n",
      "Summary: Elon Reeve Musk  (; born June 28, 1971) is a businessman and investor known for his key roles in space company SpaceX and automotive company Tesla, Inc. Other involvements include ownership of X Corp., the company that operates the social media platform X (formerly known as Twitter), and his role in the founding of The Boring Company, xAI, Neuralink and OpenAI. He is one of the wealthiest people in the world; as of July 2024, Forbes estimates his net worth to be US$221 billion.\n",
      "Musk was born in Pretoria to model Maye and businessman and engineer Errol Musk, and briefly attended the University of Pretoria before immigrating to Canada at age 18, acquiring citizenship through his Canadian-born mother. Two years later, he matriculated at Queen's University at Kingston in Canada. Musk later transferred to the University of Pennsylvania and received bachelor's degrees in economics and physics. He moved to California in 1995 to attend Stanford University, but dropped out after two days and, with his brother Kimbal, co-founded online city guide software company Zip2. The startup was acquired by Compaq for $307 million in 1999. That same year, Musk co-founded X.com, a direct bank. X.com merged with Confinity in 2000 to form PayPal. In October 2002, eBay acquired PayPal for $1.5 billion. Using $100 million of the money he made from the sale of PayPal, Musk founded SpaceX, a spaceflight services company, in 2002. \n",
      "In 2004, Musk was an early investor who provided most of the initial financing in electric vehicle manufacturer Tesla Motors, Inc. (later Tesla, Inc.), assuming the position of the company's chairman. He later became the product architect, and in 2008 the CEO. In 2006, Musk helped create SolarCity, a solar energy company that was acquired by Tesla in 2016 and became Tesla Energy. In 2013, he proposed a hyperloop high-speed vactrain transportation system. In 2015, he co-founded OpenAI, a nonprofit artificial intelligence research company. The following year, Musk co-founded Neuralink—a neurotechnology company developing brain–computer interfaces—and The Boring Company, a tunnel construction company. In 2018, the U.S. Securities and Exchange Commission (SEC) sued Musk, alleging that he had falsely announced that he had secured funding for a private takeover of Tesla. To settle the case, Musk stepped down as the chairman of Tesla and paid a $20 million fine. In 2022, he acquired Twitter for $44 billion, merged the company into newly created X Corp. and rebranded the service as X the following year. In March 2023, Musk founded xAI, an artificial intelligence company.\n",
      "Musk has expressed views that have made him a polarizing figure. He has been criticized for making unscientific and misleading statements, including COVID-19 misinformation, promoting right-wing conspiracy theories, and \"endorsing an antisemitic theory\", the latter of which he later apologized for. His ownership of Twitter has been similarly controversial, being marked by layoffs of large numbers of employees, an increase in hate speech, misinformation and disinformation posts on the website, and changes to Twitter Blue verification, but also receiving some praise for bolstering free speech.\n",
      "\n",
      "Page: Views of Elon Musk\n",
      "Summary: Elon Musk is the CEO or owner of multiple companies including Tesla, SpaceX, and X Corp, and has expressed many views on a wide variety of subjects, ranging from politics to science.\n",
      "Musk has often been described as libertarian, but also describes himself as \"politically moderate\". Within the context of American politics, Musk has said he supported Barack Obama in 2008 and 2012, Hillary Clinton in 2016, Joe Biden in 2020, and Donald Trump in 2024. In 2022, Musk said he would start voting for Republican Party candidates, with him showing support for Vivek Ramaswamy in the 2024 Republican presidential primaries. He has stated support for universal basic income, gun rights, freedom of speech, a tax on carbon emissions and opp\u001b[0m\n",
      "Thought:\u001b[32;1m\u001b[1;3m Now that I know Elon Musk's birthdate, I can calculate his age in 2024.\n",
      "Action: Calculator\n",
      "Action Input: \"2024 - 1971\"\u001b[0m\n",
      "Observation: \u001b[33;1m\u001b[1;3mAnswer: 53\u001b[0m\n",
      "Thought:\u001b[32;1m\u001b[1;3m I now know Elon Musk's age in 2024.\n",
      "Final Answer: Elon Musk will be 53 years old in 2024.\u001b[0m\n",
      "\n",
      "\u001b[1m> Finished chain.\u001b[0m\n"
     ]
    },
    {
     "data": {
      "text/plain": [
       "'Elon Musk will be 53 years old in 2024.'"
      ]
     },
     "execution_count": 71,
     "metadata": {},
     "output_type": "execute_result"
    }
   ],
   "source": [
    "from langchain.agents import AgentType, initialize_agent, load_tools\n",
    "from langchain.llms import OpenAI\n",
    "\n",
    "tools = load_tools([\"wikipedia\", \"llm-math\"], llm=llm)\n",
    "\n",
    "agent = initialize_agent(\n",
    "    tools,\n",
    "    llm,\n",
    "    agent=AgentType.ZERO_SHOT_REACT_DESCRIPTION,\n",
    "    verbose=True\n",
    ")\n",
    "\n",
    "agent.run(\"When was Elon Musk born? What is his age right now in 2024?\")"
   ]
  },
  {
   "cell_type": "code",
   "execution_count": 81,
   "id": "b5c9eb17-f6b6-4192-b72a-1188b37746bc",
   "metadata": {},
   "outputs": [
    {
     "name": "stdout",
     "output_type": "stream",
     "text": [
      "\n",
      "\n",
      "\u001b[1m> Entering new AgentExecutor chain...\u001b[0m\n",
      "\u001b[32;1m\u001b[1;3m I should use the calculator to add 5 to the GDP of US in 2022.\n",
      "Action: Calculator\n",
      "Action Input: 5 and GDP of US in 2022\u001b[0m\n",
      "Observation: \u001b[33;1m\u001b[1;3mAnswer: 22547800000005\u001b[0m\n",
      "Thought:\u001b[32;1m\u001b[1;3m Now I know the final answer.\n",
      "Final Answer: 22547800000005\u001b[0m\n",
      "\n",
      "\u001b[1m> Finished chain.\u001b[0m\n"
     ]
    },
    {
     "data": {
      "text/plain": [
       "'22547800000005'"
      ]
     },
     "execution_count": 81,
     "metadata": {},
     "output_type": "execute_result"
    }
   ],
   "source": [
    "from langchain.agents import AgentType, initialize_agent, load_tools\n",
    "from langchain.llms import OpenAI\n",
    "\n",
    "tools = load_tools([\"serpapi\", \"llm-math\"], llm=llm)\n",
    "\n",
    "agent = initialize_agent(\n",
    "    tools,\n",
    "    llm,\n",
    "    agent=AgentType.ZERO_SHOT_REACT_DESCRIPTION,\n",
    "    verbose=True\n",
    ")\n",
    "\n",
    "agent.run(\"What was the GDP of US in 2022, plus 5?\")"
   ]
  },
  {
   "cell_type": "markdown",
   "id": "7654b37f-4e5d-42a6-b092-50fb7f0311f2",
   "metadata": {},
   "source": [
    "## Memory"
   ]
  },
  {
   "cell_type": "code",
   "execution_count": 87,
   "id": "82b720ab-e827-49cc-833c-729dbd4a5ed5",
   "metadata": {},
   "outputs": [
    {
     "name": "stdout",
     "output_type": "stream",
     "text": [
      "\n",
      "\n",
      "\"El Sabor de México\" (The Flavor of Mexico) \n"
     ]
    }
   ],
   "source": [
    "chain = LLMChain(llm=llm, prompt=prompt_template_name)\n",
    "name = chain.run(\"Mexican\")\n",
    "print(name)"
   ]
  },
  {
   "cell_type": "code",
   "execution_count": 88,
   "id": "ebaa82a9-e3cc-465f-96f4-a17a93c42f7b",
   "metadata": {},
   "outputs": [
    {
     "name": "stdout",
     "output_type": "stream",
     "text": [
      "\n",
      "\n",
      "\"Goulash Palace\"\n"
     ]
    }
   ],
   "source": [
    "name = chain.run(\"Hungarian\")\n",
    "print(name)"
   ]
  },
  {
   "cell_type": "code",
   "execution_count": 94,
   "id": "021fe234-bb23-4ad7-8c54-c8e965eec64b",
   "metadata": {},
   "outputs": [
    {
     "data": {
      "text/plain": [
       "ConversationBufferMemory(chat_memory=InMemoryChatMessageHistory(messages=[HumanMessage(content='Mexican'), AIMessage(content='\\n\\n\"El Sabroso Cantina\" ')]))"
      ]
     },
     "execution_count": 94,
     "metadata": {},
     "output_type": "execute_result"
    }
   ],
   "source": [
    "chain.memory"
   ]
  },
  {
   "cell_type": "code",
   "execution_count": 92,
   "id": "89794cc2-4855-41a4-ba71-3c2a7b5a8848",
   "metadata": {},
   "outputs": [
    {
     "data": {
      "text/plain": [
       "NoneType"
      ]
     },
     "execution_count": 92,
     "metadata": {},
     "output_type": "execute_result"
    }
   ],
   "source": [
    "type(chain.memory)"
   ]
  },
  {
   "cell_type": "code",
   "execution_count": null,
   "id": "aa58a479-d991-4362-9e31-d38b8db32116",
   "metadata": {},
   "outputs": [],
   "source": [
    "### Conversational Memory"
   ]
  },
  {
   "cell_type": "code",
   "execution_count": 93,
   "id": "fca328aa-52ea-464c-abe0-17046c7a15b7",
   "metadata": {},
   "outputs": [
    {
     "name": "stdout",
     "output_type": "stream",
     "text": [
      "\n",
      "\n",
      "\"El Sabroso Cantina\" \n"
     ]
    }
   ],
   "source": [
    "from langchain.memory import ConversationBufferMemory\n",
    "\n",
    "memory = ConversationBufferMemory()\n",
    "\n",
    "chain = LLMChain(llm=llm, prompt=prompt_template_name,memory=memory)\n",
    "name = chain.run(\"Mexican\")\n",
    "print(name)"
   ]
  },
  {
   "cell_type": "code",
   "execution_count": 96,
   "id": "348fccb4-ba4d-4b15-8199-32cdc06d9182",
   "metadata": {},
   "outputs": [
    {
     "name": "stdout",
     "output_type": "stream",
     "text": [
      "\n",
      "\n",
      "\"Magyar Elegance\"\n"
     ]
    }
   ],
   "source": [
    "name = chain.run(\"Hungarian\")\n",
    "print(name)"
   ]
  },
  {
   "cell_type": "code",
   "execution_count": 97,
   "id": "7b4f9700-6c37-4f1c-9816-6df4ee48a292",
   "metadata": {},
   "outputs": [
    {
     "name": "stdout",
     "output_type": "stream",
     "text": [
      "Human: Mexican\n",
      "AI: \n",
      "\n",
      "\"El Sabroso Cantina\" \n",
      "Human: Hungarian\n",
      "AI: \n",
      "\n",
      "\"Magyar Elegance\"\n"
     ]
    }
   ],
   "source": [
    "print(chain.memory.buffer)"
   ]
  },
  {
   "cell_type": "markdown",
   "id": "494abb8b-cb48-4946-b9f7-ea6baa630f2e",
   "metadata": {},
   "source": [
    "### Conversation Chain (Memory)"
   ]
  },
  {
   "cell_type": "code",
   "execution_count": 99,
   "id": "f7898821-5415-4b96-a353-717c47644fc7",
   "metadata": {},
   "outputs": [
    {
     "name": "stdout",
     "output_type": "stream",
     "text": [
      "The following is a friendly conversation between a human and an AI. The AI is talkative and provides lots of specific details from its context. If the AI does not know the answer to a question, it truthfully says it does not know.\n",
      "\n",
      "Current conversation:\n",
      "{history}\n",
      "Human: {input}\n",
      "AI:\n"
     ]
    }
   ],
   "source": [
    "from langchain.chains import ConversationChain\n",
    "\n",
    "convo = ConversationChain(llm=OpenAI(temperature=0.7))\n",
    "print(convo.prompt.template)\n"
   ]
  },
  {
   "cell_type": "code",
   "execution_count": 108,
   "id": "015c8429-8a76-49b0-b792-9d817bc9689c",
   "metadata": {},
   "outputs": [
    {
     "data": {
      "text/plain": [
       "\" The Euro 2016 cup was won by Portugal. They defeated France 1-0 in the final match. This was Portugal's first ever European Championship title.\""
      ]
     },
     "execution_count": 108,
     "metadata": {},
     "output_type": "execute_result"
    }
   ],
   "source": [
    "convo.run(\"Who won the Euro 2016 cup?\")"
   ]
  },
  {
   "cell_type": "code",
   "execution_count": 101,
   "id": "3fcd09f0-c872-45a2-990b-e5a1f8dc895b",
   "metadata": {},
   "outputs": [
    {
     "data": {
      "text/plain": [
       "' The answer to 5+5 is 10. This is because addition is a basic mathematical operation where two numbers are combined to give a total or sum. In this case, 5 and 5 are being added together, resulting in a total of 10. This concept is often taught in elementary school as a fundamental math skill.'"
      ]
     },
     "execution_count": 101,
     "metadata": {},
     "output_type": "execute_result"
    }
   ],
   "source": [
    "convo.run(\"How much is 5+5?\")"
   ]
  },
  {
   "cell_type": "code",
   "execution_count": 109,
   "id": "95c41853-3f54-410f-b810-41e9d7e37226",
   "metadata": {},
   "outputs": [
    {
     "data": {
      "text/plain": [
       "' The captain of the winning team, Portugal, was Cristiano Ronaldo. He is a prolific football player, known for his skill and leadership on the field. He has also played for clubs such as Manchester United and Real Madrid.'"
      ]
     },
     "execution_count": 109,
     "metadata": {},
     "output_type": "execute_result"
    }
   ],
   "source": [
    "convo.run(\"Who was the captain ofthe winning team?\")"
   ]
  },
  {
   "cell_type": "code",
   "execution_count": 103,
   "id": "545638ab-4bce-4853-b301-4b41bd9147aa",
   "metadata": {},
   "outputs": [
    {
     "name": "stdout",
     "output_type": "stream",
     "text": [
      "Human: Who won the first cricket world cup?\n",
      "AI:  The first cricket world cup was held in 1975 and was won by the West Indies team. They defeated Australia by 17 runs in the final match at Lord's Cricket Ground in London, England. The West Indies team was led by captain Clive Lloyd and featured players such as Viv Richards and Joel Garner. This was the first time that a limited overs cricket tournament was held at an international level and it was a historic moment for the sport.\n",
      "Human: How much is 5+5?\n",
      "AI:  The answer to 5+5 is 10. This is because addition is a basic mathematical operation where two numbers are combined to give a total or sum. In this case, 5 and 5 are being added together, resulting in a total of 10. This concept is often taught in elementary school as a fundamental math skill.\n",
      "Human: Who was the captain ofthe winning team?\n",
      "AI:  As mentioned earlier, the captain of the West Indies team that won the first cricket world cup in 1975 was Clive Lloyd. He was a talented batsman and leader who played a key role in the team's victory. Lloyd went on to captain the West Indies team for many years and is considered one of the greatest cricketers of all time.\n"
     ]
    }
   ],
   "source": [
    "print(convo.memory.buffer)"
   ]
  },
  {
   "cell_type": "markdown",
   "id": "b1b795bb-7872-401b-9084-170e99f1cf05",
   "metadata": {},
   "source": [
    "### ConversationBufferWindowMemory (Memory is only the current window related context)"
   ]
  },
  {
   "cell_type": "code",
   "execution_count": 110,
   "id": "801613eb-f698-4d87-b31e-180ac0accd24",
   "metadata": {},
   "outputs": [
    {
     "data": {
      "text/plain": [
       "\" Portugal won the Euro 2016 cup. They beat France in the finals with a score of 1-0 after extra time. The game was held at the Stade de France in Paris on July 10, 2016. This was Portugal's first ever Euro Cup victory.\""
      ]
     },
     "execution_count": 110,
     "metadata": {},
     "output_type": "execute_result"
    }
   ],
   "source": [
    "from langchain.memory import ConversationBufferWindowMemory\n",
    "\n",
    "memory = ConversationBufferWindowMemory(k=1)\n",
    "\n",
    "convo = ConversationChain(\n",
    "    llm=OpenAI(temperature=0.7),\n",
    "    memory=memory\n",
    ")\n",
    "convo.run(\"Who won the Euro 2016 cup?\")"
   ]
  },
  {
   "cell_type": "code",
   "execution_count": 111,
   "id": "9e240648-3962-4a7e-bfe1-0b61426d1ab4",
   "metadata": {},
   "outputs": [
    {
     "data": {
      "text/plain": [
       "' The answer to 5+5 is 10. This is a basic addition problem with two single-digit numbers. The result is a double-digit number which is equal to the sum of the two individual digits.'"
      ]
     },
     "execution_count": 111,
     "metadata": {},
     "output_type": "execute_result"
    }
   ],
   "source": [
    "convo.run(\"How much is 5+5?\")"
   ]
  },
  {
   "cell_type": "code",
   "execution_count": 112,
   "id": "a1942b22-a333-4628-9bfe-df5ffafcb61f",
   "metadata": {},
   "outputs": [
    {
     "data": {
      "text/plain": [
       "' I do not have enough context to accurately answer that question. Please provide more specific information about which team you are referring to.'"
      ]
     },
     "execution_count": 112,
     "metadata": {},
     "output_type": "execute_result"
    }
   ],
   "source": [
    "convo.run(\"Who was the captain of the winning team?\")"
   ]
  }
 ],
 "metadata": {
  "kernelspec": {
   "display_name": "Python 3 (ipykernel)",
   "language": "python",
   "name": "python3"
  },
  "language_info": {
   "codemirror_mode": {
    "name": "ipython",
    "version": 3
   },
   "file_extension": ".py",
   "mimetype": "text/x-python",
   "name": "python",
   "nbconvert_exporter": "python",
   "pygments_lexer": "ipython3",
   "version": "3.12.4"
  }
 },
 "nbformat": 4,
 "nbformat_minor": 5
}
