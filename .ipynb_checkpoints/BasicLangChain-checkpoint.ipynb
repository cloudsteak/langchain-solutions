{
 "cells": [
  {
   "cell_type": "markdown",
   "id": "8f742c16-65ec-4a7e-a3a0-f37e5ff753b3",
   "metadata": {},
   "source": [
    "## Install packages"
   ]
  },
  {
   "cell_type": "code",
   "execution_count": null,
   "id": "c3b9e6c4-f6fc-448f-84b5-18cc38fb885b",
   "metadata": {
    "scrolled": true
   },
   "outputs": [],
   "source": [
    "!poetry install --no-root"
   ]
  },
  {
   "cell_type": "markdown",
   "id": "5ff0b4e2-5749-4a27-871f-38067611a57b",
   "metadata": {},
   "source": [
    "## OPENAI settings"
   ]
  },
  {
   "cell_type": "code",
   "execution_count": null,
   "id": "91be0f98-d675-418a-94ee-2c7717402c66",
   "metadata": {
    "scrolled": true
   },
   "outputs": [],
   "source": [
    "import os\n",
    "os.environ['OPENAI_API_KEY'] = <openai-api-key>"
   ]
  },
  {
   "cell_type": "markdown",
   "id": "7f96ff6a-be99-4894-ac0d-c45f7d2acdc5",
   "metadata": {},
   "source": [
    "## LLM"
   ]
  },
  {
   "cell_type": "code",
   "execution_count": 51,
   "id": "91eb1a13-3914-48eb-a7e8-53de509ddefa",
   "metadata": {
    "scrolled": true
   },
   "outputs": [
    {
     "name": "stdout",
     "output_type": "stream",
     "text": [
      "\n",
      "\n",
      "\"Magyar Észtétikum\" (Hungarian Aesthetics)\n"
     ]
    }
   ],
   "source": [
    "from langchain.llms import OpenAI\n",
    "\n",
    "llm = OpenAI(temperature=0.9)\n",
    "name = llm.predict(\"I want to open a restaurant for Hungarian food. Suggest a fancy name for this.\")\n",
    "print(name)"
   ]
  },
  {
   "cell_type": "markdown",
   "id": "b0d92f9d-cf35-4451-8914-12fe64c78f88",
   "metadata": {},
   "source": [
    "## Prompt template"
   ]
  },
  {
   "cell_type": "code",
   "execution_count": 52,
   "id": "10243cd5-c2b6-4c36-8979-85d6509677ee",
   "metadata": {},
   "outputs": [
    {
     "name": "stdout",
     "output_type": "stream",
     "text": [
      "I want to open a restaurant for Hungarian food. Suggest a fancy name for this.\n"
     ]
    }
   ],
   "source": [
    "from langchain.prompts import PromptTemplate\n",
    "\n",
    "prompt_template_name = PromptTemplate(\n",
    "    input_variables =['cuisine'],\n",
    "    template = \"I want to open a restaurant for {cuisine} food. Suggest a fancy name for this.\"\n",
    ")\n",
    "p = prompt_template_name.format(cuisine=\"Hungarian\")\n",
    "print(p)"
   ]
  },
  {
   "cell_type": "markdown",
   "id": "03c55aae-0ac7-4b92-a09d-a9fd173632f6",
   "metadata": {},
   "source": [
    "## Chains"
   ]
  },
  {
   "cell_type": "code",
   "execution_count": 53,
   "id": "1361ebcd-54f3-4d74-ab1e-ad4bc823c1c8",
   "metadata": {},
   "outputs": [
    {
     "data": {
      "text/plain": [
       "'\\n\\n\"Magyar Delicacies\" '"
      ]
     },
     "execution_count": 53,
     "metadata": {},
     "output_type": "execute_result"
    }
   ],
   "source": [
    "from langchain.chains import LLMChain\n",
    "\n",
    "chain = LLMChain(llm=llm, prompt=prompt_template_name)\n",
    "chain.run(\"Hungarian\")"
   ]
  },
  {
   "cell_type": "code",
   "execution_count": 54,
   "id": "2ed7ac66-fa4b-4b3d-bed6-ddb29f9e3e11",
   "metadata": {},
   "outputs": [
    {
     "name": "stdout",
     "output_type": "stream",
     "text": [
      "\n",
      "\n",
      "\u001b[1m> Entering new LLMChain chain...\u001b[0m\n",
      "Prompt after formatting:\n",
      "\u001b[32;1m\u001b[1;3mI want to open a restaurant for Hungarian food. Suggest a fancy name for this.\u001b[0m\n",
      "\n",
      "\u001b[1m> Finished chain.\u001b[0m\n"
     ]
    },
    {
     "data": {
      "text/plain": [
       "'\\n\\n\"Goulash Palace\"'"
      ]
     },
     "execution_count": 54,
     "metadata": {},
     "output_type": "execute_result"
    }
   ],
   "source": [
    "chain = LLMChain(llm=llm, prompt=prompt_template_name, verbose=True)\n",
    "chain.run(\"Hungarian\")"
   ]
  },
  {
   "cell_type": "markdown",
   "id": "10076984-489e-44a7-b3c0-03b6678a8980",
   "metadata": {},
   "source": [
    "### Complete code part"
   ]
  },
  {
   "cell_type": "code",
   "execution_count": 55,
   "id": "776119a2-fb62-4be7-813e-31f58aa47e81",
   "metadata": {},
   "outputs": [],
   "source": [
    "# LLM\n",
    "llm = OpenAI(temperature=0.6)\n",
    "\n",
    "# Prompt template for restaurant with parameter\n",
    "prompt_template_name = PromptTemplate(\n",
    "    input_variables = ['cuisine'],\n",
    "    template = \"I want to open a restaurant for {cuisine} food. You are a restaurant advisor, so please suggest a fancy name for it.\"\n",
    ")\n",
    "\n",
    "# Chain - Restaurant name\n",
    "name_chain = LLMChain(llm=llm, prompt=prompt_template_name)\n",
    "\n",
    "# Prompt template for menu\n",
    "prompt_template_items = PromptTemplate(\n",
    "    input_variables = ['restaurant_name'],\n",
    "    template = \"\"\"\n",
    "    You are Heston Blumenthal, the famous chef. Blumenthal is regarded as a pioneer of multi-sensory cooking, food pairing and flavour encapsulation. \n",
    "    He came to public attention with unusual recipes, such as bacon-and-egg ice cream and snail porridge. \n",
    "    His recipes for triple-cooked chips and soft-centred Scotch eggs have been widely imitated. \n",
    "    He has advocated a scientific approach to cooking, for which he has been awarded honorary degrees from the universities of Reading, Bristol and London and made an honorary fellow of the Royal Society of Chemistry.\n",
    "    \n",
    "    Please suggest some menu items for {restaurant_name}\n",
    "    \"\"\"\n",
    ")\n",
    "\n",
    "# Chain - menu\n",
    "food_items_chain = LLMChain(llm=llm, prompt=prompt_template_items)\n",
    "\n"
   ]
  },
  {
   "cell_type": "markdown",
   "id": "0bc757ec-0ab0-4120-9390-60fa9d4fdb55",
   "metadata": {},
   "source": [
    "### Simple sequental chain"
   ]
  },
  {
   "cell_type": "code",
   "execution_count": 56,
   "id": "7a77cf75-aca7-47b2-b98e-e8e39b1b882c",
   "metadata": {},
   "outputs": [
    {
     "name": "stdout",
     "output_type": "stream",
     "text": [
      "\n",
      "1. \"Goulash Explosion\" - A deconstructed version of traditional Hungarian goulash, with tender beef, paprika foam, and a crispy potato lattice.\n",
      "\n",
      "2. \"Foie Gras and Tokaji Jelly\" - A modern take on the classic Hungarian dish, combining rich foie gras and sweet Tokaji wine jelly.\n",
      "\n",
      "3. \"Duck Confit with Cherry Palinka Reduction\" - Slow-cooked duck leg served with a tangy cherry palinka reduction and crispy potato rosti.\n",
      "\n",
      "4. \"Crispy Pork Belly with Spiced Plum Compote\" - Crispy pork belly served with a sweet and tangy spiced plum compote and a side of pickled cabbage.\n",
      "\n",
      "5. \"Mushroom and Paprika Risotto\" - A creamy risotto made with wild mushrooms and smoked paprika, topped with crispy fried onions.\n",
      "\n",
      "6. \"Beef Stroganoff with Spaetzle\" - Tender beef strips cooked in a rich and creamy sauce served over homemade spaetzle noodles.\n",
      "\n",
      "7. \"Langos with Garlic Sour Cream\" - A popular Hungarian street food, crispy fried dough topped with a garlic-infused sour cream and your choice of toppings such as cheese, bacon, or sautéed mushrooms.\n",
      "\n",
      "8\n"
     ]
    }
   ],
   "source": [
    "from langchain.chains import SimpleSequentialChain\n",
    "\n",
    "# Use chains we defined above\n",
    "chain = SimpleSequentialChain(chains = [name_chain, food_items_chain])\n",
    "\n",
    "# Run this chain sequence\n",
    "content = chain.run(\"Hungarian\")\n",
    "print(content)"
   ]
  },
  {
   "cell_type": "markdown",
   "id": "ea709524-b25a-455a-9368-1d7536e0a241",
   "metadata": {},
   "source": [
    "### Sequental Chain"
   ]
  },
  {
   "cell_type": "markdown",
   "id": "e1fdcc69-0539-40d9-abe0-86cbe1432d21",
   "metadata": {},
   "source": [
    "- Restaurant name"
   ]
  },
  {
   "cell_type": "code",
   "execution_count": 57,
   "id": "924185d1-4211-43aa-adf5-9c134dbefd5e",
   "metadata": {},
   "outputs": [],
   "source": [
    "llm = OpenAI(temperature=0.7)\n",
    "\n",
    "prompt_template_name = PromptTemplate(\n",
    "    input_variables = ['cuisine'],\n",
    "    template = \"I want to open a restaurant for {cuisine} food. You are a restaurant advisor, so please suggest a fancy name for it.\"\n",
    ")\n",
    "\n",
    "name_chain = LLMChain(llm=llm, prompt=prompt_template_name, output_key=\"restaurant_name\")\n",
    "\n"
   ]
  },
  {
   "cell_type": "markdown",
   "id": "f74249e3-694a-45f7-b23a-3b8494851257",
   "metadata": {},
   "source": [
    "- Menu items"
   ]
  },
  {
   "cell_type": "code",
   "execution_count": 58,
   "id": "4bc505c1-bdfa-4bd1-8eb3-9966c450599b",
   "metadata": {},
   "outputs": [],
   "source": [
    "llm = OpenAI(temperature=0.7)\n",
    "\n",
    "prompt_template_name = PromptTemplate(\n",
    "    input_variables = ['restaurant_name'],\n",
    "    template=\"Suggest some menu items for {restaurant_name}.\"\n",
    ")\n",
    "\n",
    "food_items_chain = LLMChain(llm=llm, prompt=prompt_template_name, output_key=\"menu_items\")\n",
    "\n",
    "    "
   ]
  },
  {
   "cell_type": "markdown",
   "id": "0f4af06b-d511-47f8-9b0c-dd7696c18c51",
   "metadata": {},
   "source": [
    "- Sequental chain"
   ]
  },
  {
   "cell_type": "code",
   "execution_count": 59,
   "id": "f105a9b2-0eb0-48c4-bb3f-7f82edcfb084",
   "metadata": {
    "scrolled": true
   },
   "outputs": [],
   "source": [
    "from langchain.chains import SequentialChain\n",
    "\n",
    "chain = SequentialChain(\n",
    "    chains = [name_chain, food_items_chain],\n",
    "    input_variables = ['cuisine'],\n",
    "    output_variables = ['restaurant_name', 'menu_items']\n",
    ")"
   ]
  },
  {
   "cell_type": "markdown",
   "id": "10b49be3-50c6-4e87-97c8-4cee206c60b1",
   "metadata": {},
   "source": [
    "- Run chains"
   ]
  },
  {
   "cell_type": "code",
   "execution_count": 60,
   "id": "94192f8d-e7c2-4a73-b747-02bb18924e22",
   "metadata": {},
   "outputs": [
    {
     "data": {
      "text/plain": [
       "{'cuisine': 'Hungarian',\n",
       " 'restaurant_name': '\\n\\n\"Paprika Palace\"',\n",
       " 'menu_items': '\\n\\n1. Paprika chicken skewers with tzatziki dip\\n2. Spicy paprika shrimp and chorizo paella\\n3. Paprika roasted vegetable and quinoa salad\\n4. Paprika crusted salmon with lemon dill sauce\\n5. Paprika and garlic roasted potatoes\\n6. Paprika marinated pork tenderloin with apple chutney\\n7. Paprika spiced beef and vegetable stir-fry\\n8. Paprika and feta stuffed mushrooms\\n9. Paprika and herb crusted rack of lamb\\n10. Paprika sweet potato fries with chipotle mayo.'}"
      ]
     },
     "execution_count": 60,
     "metadata": {},
     "output_type": "execute_result"
    }
   ],
   "source": [
    "chain({\"cuisine\": \"Hungarian\"})"
   ]
  },
  {
   "cell_type": "code",
   "execution_count": null,
   "id": "b6b3d512-c26d-4443-8b25-f56bdd37d1ea",
   "metadata": {},
   "outputs": [],
   "source": []
  }
 ],
 "metadata": {
  "kernelspec": {
   "display_name": "Python 3 (ipykernel)",
   "language": "python",
   "name": "python3"
  },
  "language_info": {
   "codemirror_mode": {
    "name": "ipython",
    "version": 3
   },
   "file_extension": ".py",
   "mimetype": "text/x-python",
   "name": "python",
   "nbconvert_exporter": "python",
   "pygments_lexer": "ipython3",
   "version": "3.11.6"
  }
 },
 "nbformat": 4,
 "nbformat_minor": 5
}
